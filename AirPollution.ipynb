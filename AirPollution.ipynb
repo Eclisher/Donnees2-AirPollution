{
 "cells": [
  {
   "cell_type": "code",
   "execution_count": 1,
   "id": "55fc64da-be8f-4e40-9bde-f8d5a022e076",
   "metadata": {},
   "outputs": [
    {
     "name": "stdout",
     "output_type": "stream",
     "text": [
      "Empty DataFrame\n",
      "Columns: []\n",
      "Index: []\n"
     ]
    }
   ],
   "source": [
    "import requests\n",
    "import pandas as pd\n",
    "\n",
    "API_KEY = \"Your acces key\"\n",
    "\n",
    "def get_air_pollution_data_for_locations(latitude_longitude_df):\n",
    "    base_url = \"http://api.openweathermap.org/data/2.5/air_pollution\"\n",
    "    air_pollution_data = []\n",
    "\n",
    "    for _, row in latitude_longitude_df.iterrows():\n",
    "        lat = row['Latitude']\n",
    "        lon = row['Longitude']\n",
    "\n",
    "        url = f\"{base_url}?lat={lat}&lon={lon}&appid={API_KEY}\"\n",
    "        response = requests.get(url)\n",
    "\n",
    "        if response.status_code == 200:\n",
    "            data = response.json()\n",
    "            air_pollution_data.append({\n",
    "                'Location': row['Location'],\n",
    "                'Date': pd.to_datetime(data['list'][0]['dt'], unit='s'),\n",
    "                'Latitude': lat,\n",
    "                'Longitude': lon,\n",
    "                'Aqi': data['list'][0]['main']['aqi'],\n",
    "                'CO': data['list'][0]['components']['co'],\n",
    "                'NO': data['list'][0]['components']['no'],\n",
    "                'NO2': data['list'][0]['components']['no2'],\n",
    "                'O3': data['list'][0]['components']['o3'],\n",
    "                'SO2': data['list'][0]['components']['so2'],\n",
    "                'PM2_5': data['list'][0]['components']['pm2_5'],\n",
    "                'PM10': data['list'][0]['components']['pm10'],\n",
    "                'NH3': data['list'][0]['components']['nh3'],\n",
    "            })\n",
    "\n",
    "    return air_pollution_data\n",
    "\n",
    "data = {\n",
    "    'Location': ['Paris', 'Lyon', 'Antananarivo'],\n",
    "    'Latitude': [48.8566, 45.7640, -18.8792],\n",
    "    'Longitude': [2.3522, 4.8357, 47.5079]\n",
    "}\n",
    "latitude_longitude_df = pd.DataFrame(data)\n",
    "\n",
    "air_pollution_data = get_air_pollution_data_for_locations(latitude_longitude_df)\n",
    "df_air_pollution = pd.DataFrame(air_pollution_data)\n",
    "\n",
    "\n",
    "print(df_air_pollution)"
   ]
  },
  {
   "cell_type": "code",
   "execution_count": 9,
   "id": "486220a1-e22d-40d9-8048-8c637faaff77",
   "metadata": {},
   "outputs": [
    {
     "name": "stdout",
     "output_type": "stream",
     "text": [
      "Hello\n"
     ]
    }
   ],
   "source": []
  },
  {
   "cell_type": "code",
   "execution_count": null,
   "id": "aa116eb3-2af3-4861-9799-17e413294b96",
   "metadata": {},
   "outputs": [],
   "source": []
  },
  {
   "cell_type": "code",
   "execution_count": null,
   "id": "6fc26602-210f-4bf2-8726-2125ae293d3a",
   "metadata": {},
   "outputs": [],
   "source": []
  }
 ],
 "metadata": {
  "kernelspec": {
   "display_name": "Python 3 (ipykernel)",
   "language": "python",
   "name": "python3"
  },
  "language_info": {
   "codemirror_mode": {
    "name": "ipython",
    "version": 3
   },
   "file_extension": ".py",
   "mimetype": "text/x-python",
   "name": "python",
   "nbconvert_exporter": "python",
   "pygments_lexer": "ipython3",
   "version": "3.12.0"
  }
 },
 "nbformat": 4,
 "nbformat_minor": 5
}
